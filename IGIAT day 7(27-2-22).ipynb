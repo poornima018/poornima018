{
 "cells": [
  {
   "cell_type": "code",
   "execution_count": 1,
   "id": "6b66a453",
   "metadata": {},
   "outputs": [
    {
     "name": "stdout",
     "output_type": "stream",
     "text": [
      "Enter a number:123\n",
      "321"
     ]
    }
   ],
   "source": [
    "# input: 123\n",
    "# output:321\n",
    "a = int(input(\"Enter a number:\"))\n",
    "while a != 0:\n",
    "    print(a%10,end=\"\")\n",
    "    a = a//10"
   ]
  },
  {
   "cell_type": "code",
   "execution_count": 1,
   "id": "45e6bccc",
   "metadata": {},
   "outputs": [
    {
     "name": "stdout",
     "output_type": "stream",
     "text": [
      "enter a number1\n",
      "One "
     ]
    }
   ],
   "source": [
    "# input: 123\n",
    "# output:three two one\n",
    "a = int(input(\"enter a number\"))\n",
    "while a != 0:\n",
    "    b = a%10\n",
    "    a = a//10\n",
    "    if b==0:\n",
    "        print(\"Zero\",end = \" \" )\n",
    "    elif b==1:\n",
    "        print(\"One\",end = \" \")\n",
    "    elif b==2:\n",
    "        print(\"Two\",end = \" \")\n",
    "    elif b==3:\n",
    "        print(\"Three\",end = \" \")\n",
    "    elif b==4:\n",
    "        print(\"Four\",end = \" \")\n",
    "    elif b==5:\n",
    "        print(\"Five\",end = \" \")\n",
    "    elif b==6:\n",
    "        print(\"Six\",end = \" \")\n",
    "    elif b==7:\n",
    "        print(\"Seven\",end = \" \")\n",
    "    elif b==8:\n",
    "        print(\"Eight\",end = \" \")\n",
    "    elif b==9:\n",
    "        print(\"Nine\",end = \" \")\n",
    "    \n",
    "    "
   ]
  },
  {
   "cell_type": "code",
   "execution_count": 1,
   "id": "dc3a84c7",
   "metadata": {},
   "outputs": [
    {
     "name": "stdout",
     "output_type": "stream",
     "text": [
      "Requirement already satisfied: num2words in c:\\programdata\\anaconda3\\lib\\site-packages (0.5.10)\n",
      "Requirement already satisfied: docopt>=0.6.2 in c:\\programdata\\anaconda3\\lib\\site-packages (from num2words) (0.6.2)\n",
      "Note: you may need to restart the kernel to use updated packages.\n"
     ]
    }
   ],
   "source": [
    "pip install num2words\n"
   ]
  },
  {
   "cell_type": "code",
   "execution_count": 2,
   "id": "bfaebb91",
   "metadata": {},
   "outputs": [
    {
     "name": "stdout",
     "output_type": "stream",
     "text": [
      "one hundred and twenty-three\n"
     ]
    }
   ],
   "source": [
    "from num2words import num2words\n",
    "print(num2words(123))"
   ]
  },
  {
   "cell_type": "code",
   "execution_count": 3,
   "id": "eb2294b8",
   "metadata": {},
   "outputs": [
    {
     "name": "stdout",
     "output_type": "stream",
     "text": [
      "Enter a number10\n",
      "10 9 8 7 6 5 4 3 2 1 "
     ]
    }
   ],
   "source": [
    "#input: 10\n",
    "#output: 10 9 8 7 6 5 4 3 2 1\n",
    "a =int(input(\"Enter a number\"))\n",
    "n = 1\n",
    "while a>= n:\n",
    "    print(a,end = \" \")\n",
    "    a = a-1"
   ]
  },
  {
   "cell_type": "code",
   "execution_count": 6,
   "id": "ade75c3f",
   "metadata": {},
   "outputs": [
    {
     "name": "stdout",
     "output_type": "stream",
     "text": [
      "12345\n",
      "5\n"
     ]
    }
   ],
   "source": [
    "# find the count of digits\n",
    "n = int(input())\n",
    "c = 0\n",
    "while n != 0:\n",
    "    n =n//10\n",
    "    c = c+1\n",
    "print(c)\n",
    "    \n",
    "\n"
   ]
  },
  {
   "cell_type": "markdown",
   "id": "03d1a24e",
   "metadata": {},
   "source": [
    "# Break statement\n",
    "    we can stop loop even when the condition is true\n",
    "  \n",
    "\n",
    " "
   ]
  },
  {
   "cell_type": "code",
   "execution_count": 7,
   "id": "30bb4bf3",
   "metadata": {},
   "outputs": [
    {
     "name": "stdout",
     "output_type": "stream",
     "text": [
      "1 2 3 "
     ]
    }
   ],
   "source": [
    "i = 1\n",
    "while i <=5:\n",
    "    print(i,end = \" \")\n",
    "    if i ==3:\n",
    "        break\n",
    "    i +=1"
   ]
  },
  {
   "cell_type": "code",
   "execution_count": 10,
   "id": "a3eefc3d",
   "metadata": {},
   "outputs": [
    {
     "name": "stdout",
     "output_type": "stream",
     "text": [
      "1 2 3 5 "
     ]
    }
   ],
   "source": [
    "i = 0\n",
    "while i <5:\n",
    "    i +=1\n",
    "    if i ==4:\n",
    "        continue\n",
    "    print(i,end = \" \")\n",
    "    "
   ]
  },
  {
   "cell_type": "code",
   "execution_count": 13,
   "id": "e25d1ee2",
   "metadata": {},
   "outputs": [
    {
     "name": "stdout",
     "output_type": "stream",
     "text": [
      "1 2 4 5 6 "
     ]
    }
   ],
   "source": [
    "i = 0\n",
    "while i <=5:\n",
    "    i +=1\n",
    "    if i ==3:\n",
    "        continue\n",
    "    print(i,end = \" \")"
   ]
  },
  {
   "cell_type": "markdown",
   "id": "3fb01b7e",
   "metadata": {},
   "source": [
    "# For loop statement\n",
    " - syntax"
   ]
  },
  {
   "cell_type": "code",
   "execution_count": null,
   "id": "93b61c92",
   "metadata": {},
   "outputs": [],
   "source": []
  },
  {
   "cell_type": "code",
   "execution_count": 16,
   "id": "e14ba474",
   "metadata": {},
   "outputs": [
    {
     "name": "stdout",
     "output_type": "stream",
     "text": [
      "0 1 2 3 4 "
     ]
    }
   ],
   "source": [
    "for i in range(5):\n",
    "    print(i,end =  \" \")"
   ]
  },
  {
   "cell_type": "code",
   "execution_count": 17,
   "id": "dc5a2145",
   "metadata": {},
   "outputs": [
    {
     "name": "stdout",
     "output_type": "stream",
     "text": [
      "1 2 3 4 "
     ]
    }
   ],
   "source": [
    "for i in range(1,5):\n",
    "    print(i,end = \" \")"
   ]
  },
  {
   "cell_type": "code",
   "execution_count": 19,
   "id": "a228da42",
   "metadata": {},
   "outputs": [
    {
     "name": "stdout",
     "output_type": "stream",
     "text": [
      "2 3 4 5 6 7 "
     ]
    }
   ],
   "source": [
    "for i in range(2,8):\n",
    "    print(i,end = \" \")"
   ]
  },
  {
   "cell_type": "code",
   "execution_count": 21,
   "id": "95821e97",
   "metadata": {},
   "outputs": [
    {
     "name": "stdout",
     "output_type": "stream",
     "text": [
      "1 3 5 7 9 "
     ]
    }
   ],
   "source": [
    "# print odd number\n",
    "for i in range(1,10,2):\n",
    "    print(i,end = \" \")"
   ]
  },
  {
   "cell_type": "code",
   "execution_count": 23,
   "id": "4a93e737",
   "metadata": {},
   "outputs": [
    {
     "name": "stdout",
     "output_type": "stream",
     "text": [
      "1 2 3 4 5 6 7 8 9 10 "
     ]
    }
   ],
   "source": [
    "# print 1 2 3 ----10\n",
    "for i in range(1,11):\n",
    "    print(i,end = \" \")"
   ]
  },
  {
   "cell_type": "code",
   "execution_count": 28,
   "id": "3dd9c65e",
   "metadata": {},
   "outputs": [
    {
     "name": "stdout",
     "output_type": "stream",
     "text": [
      "10 9 8 7 6 5 4 3 2 1 "
     ]
    }
   ],
   "source": [
    "# print 10 9 8 ----1\n",
    "for i in range(10,0,-1):\n",
    "    print(i,end = \" \")"
   ]
  },
  {
   "cell_type": "code",
   "execution_count": 29,
   "id": "d9418062",
   "metadata": {},
   "outputs": [
    {
     "name": "stdout",
     "output_type": "stream",
     "text": [
      "0 15 30 45 60 75 90 "
     ]
    }
   ],
   "source": [
    "# print 0 to 100 print multiples of both 3 and 5\n",
    "for i in range(0,100):\n",
    "    if i%3 ==0 and i%5 ==0:\n",
    "        print(i,end = \" \")"
   ]
  },
  {
   "cell_type": "code",
   "execution_count": 39,
   "id": "28326ce2",
   "metadata": {},
   "outputs": [
    {
     "name": "stdout",
     "output_type": "stream",
     "text": [
      "sum is: 5050\n"
     ]
    }
   ],
   "source": [
    "# print 0 to 100 print all numbers \n",
    "a = 0\n",
    "for i in range(0,101,1):\n",
    "    a = a+i\n",
    "print(\"sum is:\",a)\n",
    "    \n",
    "        \n",
    "    \n",
    "        "
   ]
  },
  {
   "cell_type": "code",
   "execution_count": 1,
   "id": "f6e25d37",
   "metadata": {},
   "outputs": [
    {
     "name": "stdout",
     "output_type": "stream",
     "text": [
      "55\n",
      "1540\n"
     ]
    }
   ],
   "source": [
    "n = int(input())\n",
    "s = 0\n",
    "for i in range(1,1+n,1):\n",
    "    s = s+i\n",
    "print(s)\n",
    "    "
   ]
  },
  {
   "cell_type": "code",
   "execution_count": null,
   "id": "aa01a44c",
   "metadata": {},
   "outputs": [],
   "source": []
  }
 ],
 "metadata": {
  "kernelspec": {
   "display_name": "Python 3 (ipykernel)",
   "language": "python",
   "name": "python3"
  },
  "language_info": {
   "codemirror_mode": {
    "name": "ipython",
    "version": 3
   },
   "file_extension": ".py",
   "mimetype": "text/x-python",
   "name": "python",
   "nbconvert_exporter": "python",
   "pygments_lexer": "ipython3",
   "version": "3.9.7"
  }
 },
 "nbformat": 4,
 "nbformat_minor": 5
}
