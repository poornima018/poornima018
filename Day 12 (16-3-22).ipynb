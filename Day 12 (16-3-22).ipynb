{
 "cells": [
  {
   "cell_type": "markdown",
   "id": "c3810f92",
   "metadata": {},
   "source": [
    "# object oriented programming\n",
    "- python supports different programming aproach\n",
    "- one of the popular aproach to solve programs by creating object and it is object oriented programming\n",
    "- object as 2 characteristicts one is attributes second one is behaviour\n",
    "- for example parrot is an object in that name ,age ,color as attributes \n",
    "- singing, dancing ,talking comes under behaviour "
   ]
  },
  {
   "cell_type": "markdown",
   "id": "0d7a15e7",
   "metadata": {},
   "source": [
    "# syntax:"
   ]
  },
  {
   "cell_type": "code",
   "execution_count": 1,
   "id": "04cbef9e",
   "metadata": {},
   "outputs": [],
   "source": [
    "class parrot:\n",
    "    pass # to AVOID GETTING ERROR"
   ]
  },
  {
   "cell_type": "code",
   "execution_count": 3,
   "id": "ae991328",
   "metadata": {},
   "outputs": [
    {
     "name": "stdout",
     "output_type": "stream",
     "text": [
      "18\n"
     ]
    }
   ],
   "source": [
    "class parrot:\n",
    "    x = 18\n",
    "obj = parrot()\n",
    "print(obj.x)"
   ]
  },
  {
   "cell_type": "code",
   "execution_count": 6,
   "id": "ac09b600",
   "metadata": {},
   "outputs": [
    {
     "name": "stdout",
     "output_type": "stream",
     "text": [
      "Hello Im Poornima\n"
     ]
    }
   ],
   "source": [
    "# create a method in class\n",
    "class cls:\n",
    "    # create a method\n",
    "    def test(self):\n",
    "        print(\"Hello Im Poornima\")\n",
    "obj1 = cls()\n",
    "obj1.test()"
   ]
  },
  {
   "cell_type": "code",
   "execution_count": 8,
   "id": "61dd1f41",
   "metadata": {},
   "outputs": [
    {
     "name": "stdout",
     "output_type": "stream",
     "text": [
      "My name is: Poornima\n"
     ]
    }
   ],
   "source": [
    "class cls1:\n",
    "    def test1(self,name):\n",
    "        print(\"My name is:\",name)\n",
    "obj2 = cls1()\n",
    "obj2.test1(\"Poornima\")"
   ]
  },
  {
   "cell_type": "code",
   "execution_count": 9,
   "id": "614dd9fe",
   "metadata": {},
   "outputs": [
    {
     "name": "stdout",
     "output_type": "stream",
     "text": [
      "15\n"
     ]
    }
   ],
   "source": [
    "# adding of 3 numbers\n",
    "class cls:\n",
    "    # crete a method \n",
    "    def test(self,a,b,c):\n",
    "        print(a+b+c)\n",
    "obj = cls()\n",
    "obj.test(8,3,4)\n",
    "        "
   ]
  },
  {
   "cell_type": "markdown",
   "id": "69b61b86",
   "metadata": {},
   "source": [
    "# Constructor:"
   ]
  },
  {
   "cell_type": "code",
   "execution_count": 10,
   "id": "e2fbedd8",
   "metadata": {},
   "outputs": [
    {
     "name": "stdout",
     "output_type": "stream",
     "text": [
      "Poornima\n",
      "20\n"
     ]
    }
   ],
   "source": [
    "class person:\n",
    "    def __init__(self,name,age):\n",
    "        self.name = name\n",
    "        self.age = age\n",
    "obj1 = person(\"Poornima\",20)\n",
    "print(obj1.name)\n",
    "print(obj1.age)\n",
    "              "
   ]
  },
  {
   "cell_type": "code",
   "execution_count": 18,
   "id": "daf93228",
   "metadata": {},
   "outputs": [
    {
     "name": "stdout",
     "output_type": "stream",
     "text": [
      "My name is:Poornima\n",
      "Poornima\n",
      "20\n"
     ]
    }
   ],
   "source": [
    "class person:\n",
    "    def __init__(self,name,age):\n",
    "        self.name = name\n",
    "        self.age = age\n",
    "    def mymethod(self):\n",
    "        print(\"My name is:\"+self.name)\n",
    "obj1 = person(\"Poornima\",20)\n",
    "obj1.mymethod()\n",
    "print(obj1.name)\n",
    "print(obj1.age)\n",
    "              "
   ]
  },
  {
   "cell_type": "code",
   "execution_count": 20,
   "id": "da314d53",
   "metadata": {},
   "outputs": [
    {
     "name": "stdout",
     "output_type": "stream",
     "text": [
      "My name is:Priya\n",
      "Priya\n",
      "28\n"
     ]
    }
   ],
   "source": [
    "class person:\n",
    "    def __init__(self,name,age):\n",
    "        self.name = name\n",
    "        self.age = age\n",
    "    def mymethod(self):\n",
    "        print(\"My name is:\"+self.name)\n",
    "obj1 = person(\"Poornima\",20)\n",
    "obj2.age = 28\n",
    "obj2.name = \"Priya\"\n",
    "obj2.mymethod()\n",
    "print(obj2.name)\n",
    "print(obj2.age)"
   ]
  },
  {
   "cell_type": "code",
   "execution_count": 22,
   "id": "bea5efd1",
   "metadata": {},
   "outputs": [
    {
     "name": "stdout",
     "output_type": "stream",
     "text": [
      "My name is:Priya\n",
      "Priya\n"
     ]
    },
    {
     "ename": "AttributeError",
     "evalue": "'person' object has no attribute 'age'",
     "output_type": "error",
     "traceback": [
      "\u001b[1;31m---------------------------------------------------------------------------\u001b[0m",
      "\u001b[1;31mAttributeError\u001b[0m                            Traceback (most recent call last)",
      "\u001b[1;32m<ipython-input-22-8d2fdee3f24a>\u001b[0m in \u001b[0;36m<module>\u001b[1;34m\u001b[0m\n\u001b[0;32m     11\u001b[0m \u001b[1;32mdel\u001b[0m \u001b[0mobj2\u001b[0m\u001b[1;33m.\u001b[0m\u001b[0mage\u001b[0m\u001b[1;33m\u001b[0m\u001b[1;33m\u001b[0m\u001b[0m\n\u001b[0;32m     12\u001b[0m \u001b[0mprint\u001b[0m\u001b[1;33m(\u001b[0m\u001b[0mobj2\u001b[0m\u001b[1;33m.\u001b[0m\u001b[0mname\u001b[0m\u001b[1;33m)\u001b[0m\u001b[1;33m\u001b[0m\u001b[1;33m\u001b[0m\u001b[0m\n\u001b[1;32m---> 13\u001b[1;33m \u001b[0mprint\u001b[0m\u001b[1;33m(\u001b[0m\u001b[0mobj2\u001b[0m\u001b[1;33m.\u001b[0m\u001b[0mage\u001b[0m\u001b[1;33m)\u001b[0m\u001b[1;33m\u001b[0m\u001b[1;33m\u001b[0m\u001b[0m\n\u001b[0m",
      "\u001b[1;31mAttributeError\u001b[0m: 'person' object has no attribute 'age'"
     ]
    }
   ],
   "source": [
    "class person:\n",
    "    def __init__(self,name,age):\n",
    "        self.name = name\n",
    "        self.age = age\n",
    "    def mymethod(self):\n",
    "        print(\"My name is:\"+self.name)\n",
    "obj1 = person(\"Poornima\",20)\n",
    "obj2.age = 28\n",
    "obj2.name = \"Priya\"\n",
    "obj2.mymethod()\n",
    "del obj2.age\n",
    "print(obj2.name)\n",
    "print(obj2.age)"
   ]
  },
  {
   "cell_type": "markdown",
   "id": "3d86bc06",
   "metadata": {},
   "source": [
    "# Inheritance:\n",
    "- it is way of creating a new class using details of existing class without modifying it"
   ]
  },
  {
   "cell_type": "code",
   "execution_count": 24,
   "id": "ed7e44e2",
   "metadata": {},
   "outputs": [
    {
     "name": "stdout",
     "output_type": "stream",
     "text": [
      "parrot is ready\n",
      "parrot\n",
      "fly fast\n"
     ]
    }
   ],
   "source": [
    "class Bird: # parent class\n",
    "    def __init__(self):\n",
    "        print(\"bird is ready\")\n",
    "    def whozthis(self):\n",
    "        print(\"bird\")\n",
    "    def fast(self):\n",
    "        print(\"fly fast\")\n",
    "class parrot(Bird): #child class\n",
    "    def __init__(self):\n",
    "        print(\"parrot is ready\")\n",
    "    def whozthis(self):\n",
    "        print(\"parrot\")\n",
    "    def run(self):\n",
    "        print(\"run fast\")\n",
    "obj = parrot()\n",
    "obj.whozthis()\n",
    "obj.fast()"
   ]
  },
  {
   "cell_type": "code",
   "execution_count": null,
   "id": "a4515425",
   "metadata": {},
   "outputs": [],
   "source": []
  }
 ],
 "metadata": {
  "kernelspec": {
   "display_name": "Python 3",
   "language": "python",
   "name": "python3"
  },
  "language_info": {
   "codemirror_mode": {
    "name": "ipython",
    "version": 3
   },
   "file_extension": ".py",
   "mimetype": "text/x-python",
   "name": "python",
   "nbconvert_exporter": "python",
   "pygments_lexer": "ipython3",
   "version": "3.8.8"
  }
 },
 "nbformat": 4,
 "nbformat_minor": 5
}
