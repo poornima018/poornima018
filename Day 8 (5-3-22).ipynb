{
 "cells": [
  {
   "cell_type": "markdown",
   "id": "b736e3d6",
   "metadata": {},
   "source": [
    "# Data structures:\n",
    "  - list\n",
    "  - tuple\n",
    "  - dictionary\n",
    "  - it will store data in some particular data structure\n",
    "  - soting\n",
    "  - searching\n",
    "  - storing"
   ]
  },
  {
   "cell_type": "code",
   "execution_count": 1,
   "id": "b0fd0f83",
   "metadata": {},
   "outputs": [
    {
     "name": "stdout",
     "output_type": "stream",
     "text": [
      "[1, 2, 3, 4, 5, 6, 7]\n"
     ]
    }
   ],
   "source": [
    "l = [1,2,3,4,5,6,7]\n",
    "print(l)"
   ]
  },
  {
   "cell_type": "code",
   "execution_count": 2,
   "id": "a11a083a",
   "metadata": {},
   "outputs": [
    {
     "name": "stdout",
     "output_type": "stream",
     "text": [
      "1\n",
      "1\n"
     ]
    }
   ],
   "source": [
    "# Access 1st element\n",
    "print(l[0])\n",
    "print(l[-7])"
   ]
  },
  {
   "cell_type": "code",
   "execution_count": 3,
   "id": "aa5a500c",
   "metadata": {},
   "outputs": [
    {
     "name": "stdout",
     "output_type": "stream",
     "text": [
      "[1, 2, 3, 4, 5]\n",
      "[2, 3, 4]\n"
     ]
    }
   ],
   "source": [
    "# Access range o elements\n",
    "print(l[0:5])\n",
    "print(l[1:4])"
   ]
  },
  {
   "cell_type": "markdown",
   "id": "7c8c5409",
   "metadata": {},
   "source": [
    "# Update the elements"
   ]
  },
  {
   "cell_type": "code",
   "execution_count": 6,
   "id": "036178a0",
   "metadata": {},
   "outputs": [
    {
     "name": "stdout",
     "output_type": "stream",
     "text": [
      "[1, 2, 3, 4, 5, 6, 7]\n",
      "[1, 2, 10, 4, 5, 6, 7]\n"
     ]
    }
   ],
   "source": [
    "l = [1,2,3,4,5,6,7]\n",
    "print(l)\n",
    "l[2] = 10\n",
    "print(l)"
   ]
  },
  {
   "cell_type": "code",
   "execution_count": 8,
   "id": "444e8d91",
   "metadata": {},
   "outputs": [
    {
     "name": "stdout",
     "output_type": "stream",
     "text": [
      "[1, 2, 3, 4, 5, 6, 7]\n",
      "[9, 8, 7, 3, 4, 5, 6, 7]\n"
     ]
    }
   ],
   "source": [
    "# update range of elements\n",
    "l = [1,2,3,4,5,6,7]\n",
    "print(l)\n",
    "l[0:2] = [9,8,7]\n",
    "print(l)"
   ]
  },
  {
   "cell_type": "markdown",
   "id": "e4d35c69",
   "metadata": {},
   "source": [
    "# List methods:"
   ]
  },
  {
   "cell_type": "markdown",
   "id": "3c695735",
   "metadata": {},
   "source": [
    "## insert method:\n",
    "  - it inserts items in specified index"
   ]
  },
  {
   "cell_type": "code",
   "execution_count": 9,
   "id": "229758b2",
   "metadata": {},
   "outputs": [
    {
     "name": "stdout",
     "output_type": "stream",
     "text": [
      "[1, 2, 'poornima', 3, 4, 5, 6, 7]\n"
     ]
    }
   ],
   "source": [
    "l = [1,2,3,4,5,6,7]\n",
    "l.insert(2,\"poornima\")\n",
    "print(l)"
   ]
  },
  {
   "cell_type": "markdown",
   "id": "d9eb3e50",
   "metadata": {},
   "source": [
    "# Append method\n",
    " - add an item in the end of list"
   ]
  },
  {
   "cell_type": "code",
   "execution_count": 11,
   "id": "38ced031",
   "metadata": {},
   "outputs": [
    {
     "name": "stdout",
     "output_type": "stream",
     "text": [
      "[1, 2, 3, 4, 5, 6, 7, 52, 23]\n"
     ]
    }
   ],
   "source": [
    "l = [1,2,3,4,5,6,7]\n",
    "l.append(52)\n",
    "l\n",
    "l.append(23)\n",
    "print(l)"
   ]
  },
  {
   "cell_type": "markdown",
   "id": "146712fe",
   "metadata": {},
   "source": [
    "# Extend list:\n",
    " - append elements from another list to current list"
   ]
  },
  {
   "cell_type": "code",
   "execution_count": 13,
   "id": "e7844a6f",
   "metadata": {},
   "outputs": [
    {
     "name": "stdout",
     "output_type": "stream",
     "text": [
      "[1, 2, 3, 4, 5, 6, 7, 8, 9, 10, 11, 12]\n",
      "[8, 9, 10, 11, 12, 1, 2, 3, 4, 5, 6, 7, 8, 9, 10, 11, 12]\n"
     ]
    }
   ],
   "source": [
    "l = [1,2,3,4,5,6,7]\n",
    "l1 = [8,9,10,11,12]\n",
    "l.extend(l1)\n",
    "l1.extend(l)\n",
    "print(l)\n",
    "print(l1)"
   ]
  },
  {
   "cell_type": "markdown",
   "id": "6512f0e7",
   "metadata": {},
   "source": [
    "# Remove method:\n",
    " - it remove elements from list"
   ]
  },
  {
   "cell_type": "code",
   "execution_count": 16,
   "id": "d763ff89",
   "metadata": {},
   "outputs": [
    {
     "data": {
      "text/plain": [
       "[4, 5, 7, 8, 9, 10]"
      ]
     },
     "execution_count": 16,
     "metadata": {},
     "output_type": "execute_result"
    }
   ],
   "source": [
    "l = [4,5,6,7,8,9,10]\n",
    "l.remove(6)\n",
    "l"
   ]
  },
  {
   "cell_type": "markdown",
   "id": "c320b689",
   "metadata": {},
   "source": [
    "# Pop method:\n",
    "  - it removes specified index"
   ]
  },
  {
   "cell_type": "code",
   "execution_count": 17,
   "id": "05f2ecc8",
   "metadata": {},
   "outputs": [
    {
     "data": {
      "text/plain": [
       "[1, 2, 4, 5, 6, 7]"
      ]
     },
     "execution_count": 17,
     "metadata": {},
     "output_type": "execute_result"
    }
   ],
   "source": [
    "l = [1,2,3,4,5,6,7]\n",
    "l.pop(2)\n",
    "l"
   ]
  },
  {
   "cell_type": "markdown",
   "id": "9626d63a",
   "metadata": {},
   "source": [
    "# Del keyword\n",
    "  - it remove specified index"
   ]
  },
  {
   "cell_type": "code",
   "execution_count": 23,
   "id": "debac4cd",
   "metadata": {},
   "outputs": [
    {
     "data": {
      "text/plain": [
       "[1, 2, 4, 5, 6, 7, 8]"
      ]
     },
     "execution_count": 23,
     "metadata": {},
     "output_type": "execute_result"
    }
   ],
   "source": [
    "l = [1,2,3,4,5,6,7,8]\n",
    "del l[2]\n",
    "l"
   ]
  },
  {
   "cell_type": "markdown",
   "id": "626d6d19",
   "metadata": {},
   "source": [
    "# clear method;\n",
    " - it empties the list"
   ]
  },
  {
   "cell_type": "code",
   "execution_count": 21,
   "id": "1199f348",
   "metadata": {},
   "outputs": [
    {
     "data": {
      "text/plain": [
       "[]"
      ]
     },
     "execution_count": 21,
     "metadata": {},
     "output_type": "execute_result"
    }
   ],
   "source": [
    "l = [1,2,3,4,5,6,7]\n",
    "l.clear()\n",
    "l"
   ]
  },
  {
   "cell_type": "markdown",
   "id": "f8912aca",
   "metadata": {},
   "source": [
    "# Sort method:\n",
    " - it will sort the list in ascending order"
   ]
  },
  {
   "cell_type": "code",
   "execution_count": 22,
   "id": "aa88b797",
   "metadata": {},
   "outputs": [
    {
     "data": {
      "text/plain": [
       "[1, 2, 3, 4, 5, 6, 7, 8, 9, 75]"
      ]
     },
     "execution_count": 22,
     "metadata": {},
     "output_type": "execute_result"
    }
   ],
   "source": [
    "l = [5,2,6,1,7,3,8,75,4,9]\n",
    "l.sort()\n",
    "l"
   ]
  },
  {
   "cell_type": "markdown",
   "id": "135a4ea8",
   "metadata": {},
   "source": [
    "# Reverse method:\n"
   ]
  },
  {
   "cell_type": "code",
   "execution_count": 24,
   "id": "e06fae80",
   "metadata": {},
   "outputs": [
    {
     "data": {
      "text/plain": [
       "[7, 6, 5, 4, 3, 2, 1]"
      ]
     },
     "execution_count": 24,
     "metadata": {},
     "output_type": "execute_result"
    }
   ],
   "source": [
    "l = [1,2,3,4,5,6,7]\n",
    "l.reverse()\n",
    "l"
   ]
  },
  {
   "cell_type": "markdown",
   "id": "08cbecd1",
   "metadata": {},
   "source": [
    "# Copy method:\n"
   ]
  },
  {
   "cell_type": "code",
   "execution_count": 25,
   "id": "fc2492ac",
   "metadata": {},
   "outputs": [
    {
     "data": {
      "text/plain": [
       "[1, 2, 3, 4, 5, 6, 7]"
      ]
     },
     "execution_count": 25,
     "metadata": {},
     "output_type": "execute_result"
    }
   ],
   "source": [
    "l = [1,2,3,4,5,6,7]\n",
    "l1 = l.copy()\n",
    "l1"
   ]
  },
  {
   "cell_type": "markdown",
   "id": "3855cc03",
   "metadata": {},
   "source": [
    "# Count():"
   ]
  },
  {
   "cell_type": "code",
   "execution_count": 27,
   "id": "edabf0b9",
   "metadata": {},
   "outputs": [
    {
     "data": {
      "text/plain": [
       "3"
      ]
     },
     "execution_count": 27,
     "metadata": {},
     "output_type": "execute_result"
    }
   ],
   "source": [
    "l = [1,2,5,4,6,3,2,6,7,8,9,2]\n",
    "l1 = l.count(2)\n",
    "l1"
   ]
  },
  {
   "cell_type": "markdown",
   "id": "b96eb55f",
   "metadata": {},
   "source": [
    "# Index:"
   ]
  },
  {
   "cell_type": "code",
   "execution_count": 28,
   "id": "a1823843",
   "metadata": {},
   "outputs": [
    {
     "data": {
      "text/plain": [
       "2"
      ]
     },
     "execution_count": 28,
     "metadata": {},
     "output_type": "execute_result"
    }
   ],
   "source": [
    "l = [1,2,3,4,5,6,7,8]\n",
    "l1 = l.index(3)\n",
    "l1"
   ]
  },
  {
   "cell_type": "code",
   "execution_count": 29,
   "id": "bbd0e352",
   "metadata": {},
   "outputs": [
    {
     "name": "stdout",
     "output_type": "stream",
     "text": [
      "7\n",
      "7\n",
      "1\n",
      "28\n",
      "4.0\n"
     ]
    }
   ],
   "source": [
    "l = [1,2,3,4,5,6,7]\n",
    "# length of list\n",
    "print(len(l))\n",
    "print(max(l)) # maximum  number\n",
    "print(min(l)) # minimum number\n",
    "print(sum(l))\n",
    "# Average\n",
    "print(sum(l)/len(l))"
   ]
  },
  {
   "cell_type": "markdown",
   "id": "761c0a70",
   "metadata": {},
   "source": [
    "# Tuple:\n",
    " - it cannot be changed or modified\n",
    " - tuple enclosed with round brackets and seperated by coma\n",
    " "
   ]
  },
  {
   "cell_type": "code",
   "execution_count": 30,
   "id": "24fef53b",
   "metadata": {},
   "outputs": [
    {
     "name": "stdout",
     "output_type": "stream",
     "text": [
      "(1, 2, 3, 4, 5, 6)\n"
     ]
    }
   ],
   "source": [
    "t = (1,2,3,4,5,6)\n",
    "print(t)"
   ]
  },
  {
   "cell_type": "code",
   "execution_count": 31,
   "id": "afc492f5",
   "metadata": {},
   "outputs": [
    {
     "name": "stdout",
     "output_type": "stream",
     "text": [
      "1\n",
      "(2, 3, 4, 5)\n"
     ]
    }
   ],
   "source": [
    "# Access\n",
    "t = (1,2,3,4,5,6)\n",
    "print(t[0])\n",
    "print(t[1:5])"
   ]
  },
  {
   "cell_type": "code",
   "execution_count": 32,
   "id": "8c6ca9cd",
   "metadata": {},
   "outputs": [
    {
     "name": "stdout",
     "output_type": "stream",
     "text": [
      "[1, 2, 3, 4, 5]\n",
      "(1, 2, 3, 9, 5)\n"
     ]
    }
   ],
   "source": [
    "# update\n",
    "t = (1,2,3,4,5)\n",
    "t1 = list(t)\n",
    "print(t1)\n",
    "t1[3] = 9\n",
    "t = tuple(t1)\n",
    "print(t)"
   ]
  },
  {
   "cell_type": "code",
   "execution_count": 38,
   "id": "ec1eed4d",
   "metadata": {},
   "outputs": [
    {
     "name": "stdout",
     "output_type": "stream",
     "text": [
      "[1, 2, 3, 4, 5]\n",
      "[1, 2, 3, 4, 5, 23]\n"
     ]
    }
   ],
   "source": [
    "# Append\n",
    "t = (1,2,3,4,5)\n",
    "t1 = list(t)\n",
    "print(t1)\n",
    "t1.append(23)\n",
    "t = tuple(t1)\n",
    "print(t1)"
   ]
  },
  {
   "cell_type": "code",
   "execution_count": 37,
   "id": "e48a62cf",
   "metadata": {},
   "outputs": [
    {
     "name": "stdout",
     "output_type": "stream",
     "text": [
      "[1, 2, 3, 4, 5]\n",
      "[1, 2, 3, 4, 5, 6, 7, 8, 9, 2]\n"
     ]
    }
   ],
   "source": [
    "# extend\n",
    "t = (1,2,3,4,5)\n",
    "t1 = list(t)\n",
    "print(t1)\n",
    "t2 = (6,7,8,9,2)\n",
    "t1.extend(t2)\n",
    "t = tuple(t1)\n",
    "print(t1)"
   ]
  },
  {
   "cell_type": "code",
   "execution_count": 39,
   "id": "64c1a3e8",
   "metadata": {},
   "outputs": [
    {
     "name": "stdout",
     "output_type": "stream",
     "text": [
      "[1, 2, 3, 4, 5, 6]\n",
      "[1, 2, 3, 4, 6]\n"
     ]
    }
   ],
   "source": [
    "# Remove method\n",
    "t =(1,2,3,4,5,6)\n",
    "t1 = list(t)\n",
    "print(t1)\n",
    "t1.remove(5)\n",
    "t = tuple(t1)\n",
    "print(t1)"
   ]
  },
  {
   "cell_type": "code",
   "execution_count": 40,
   "id": "5debfc62",
   "metadata": {},
   "outputs": [
    {
     "name": "stdout",
     "output_type": "stream",
     "text": [
      "(1, 2, 3, 4, 5, 6)\n",
      "[1, 2, 3, 5, 6]\n"
     ]
    }
   ],
   "source": [
    "# pop method\n",
    "t =(1,2,3,4,5,6)\n",
    "t1 = list(t)\n",
    "print(t)\n",
    "t1.pop(3)\n",
    "t = tuple(t1)\n",
    "print(t1)"
   ]
  },
  {
   "cell_type": "code",
   "execution_count": 43,
   "id": "4a7730d3",
   "metadata": {},
   "outputs": [
    {
     "name": "stdout",
     "output_type": "stream",
     "text": [
      "[1, 2, 3, 4, 5, 6]\n",
      "(1, 2, 3, 5, 6)\n"
     ]
    }
   ],
   "source": [
    "# del method\n",
    "t = (1,2,3,4,5,6)\n",
    "t1 = list(t)\n",
    "print(t1)\n",
    "del t1[3]\n",
    "t = tuple(t1)\n",
    "print(t)"
   ]
  },
  {
   "cell_type": "code",
   "execution_count": 44,
   "id": "fc1b0d74",
   "metadata": {},
   "outputs": [
    {
     "name": "stdout",
     "output_type": "stream",
     "text": [
      "()\n"
     ]
    }
   ],
   "source": [
    "# clear method\n",
    "t = (1,2,3,4,5,6)\n",
    "t1 = list(t)\n",
    "t1.clear()\n",
    "t = tuple(t1)\n",
    "print(t)"
   ]
  },
  {
   "cell_type": "code",
   "execution_count": 46,
   "id": "caca55d2",
   "metadata": {},
   "outputs": [
    {
     "name": "stdout",
     "output_type": "stream",
     "text": [
      "(1, 2, 3, 4, 6, 6, 7)\n"
     ]
    }
   ],
   "source": [
    "# sort method\n",
    "t = (6,3,6,2,7,1,4)\n",
    "t1 = list(t)\n",
    "t1.sort()\n",
    "t = tuple(t1)\n",
    "print(t)"
   ]
  },
  {
   "cell_type": "code",
   "execution_count": 48,
   "id": "755c41c2",
   "metadata": {},
   "outputs": [
    {
     "name": "stdout",
     "output_type": "stream",
     "text": [
      "(6, 5, 4, 3, 2, 1)\n"
     ]
    }
   ],
   "source": [
    "# reverse method\n",
    "t = (1,2,3,4,5,6)\n",
    "t1 = list(t)\n",
    "t1.reverse()\n",
    "t = tuple(t1)\n",
    "print(t)"
   ]
  },
  {
   "cell_type": "code",
   "execution_count": 52,
   "id": "48ad9c3b",
   "metadata": {},
   "outputs": [
    {
     "name": "stdout",
     "output_type": "stream",
     "text": [
      "(1, 2, 3, 4, 5)\n"
     ]
    }
   ],
   "source": [
    "# copy method\n",
    "t = (1,2,3,4,5)\n",
    "t1 = list(t)\n",
    "t2 = t1.copy()\n",
    "t = tuple(t2)\n",
    "print(t)"
   ]
  },
  {
   "cell_type": "code",
   "execution_count": 58,
   "id": "b396170f",
   "metadata": {},
   "outputs": [
    {
     "ename": "TypeError",
     "evalue": "'int' object is not iterable",
     "output_type": "error",
     "traceback": [
      "\u001b[1;31m---------------------------------------------------------------------------\u001b[0m",
      "\u001b[1;31mTypeError\u001b[0m                                 Traceback (most recent call last)",
      "\u001b[1;32mC:\\Users\\USER23~1\\AppData\\Local\\Temp/ipykernel_6176/890925294.py\u001b[0m in \u001b[0;36m<module>\u001b[1;34m\u001b[0m\n\u001b[0;32m      3\u001b[0m \u001b[0mt1\u001b[0m \u001b[1;33m=\u001b[0m \u001b[0mlist\u001b[0m\u001b[1;33m(\u001b[0m\u001b[0mt\u001b[0m\u001b[1;33m)\u001b[0m\u001b[1;33m\u001b[0m\u001b[1;33m\u001b[0m\u001b[0m\n\u001b[0;32m      4\u001b[0m \u001b[0mt2\u001b[0m \u001b[1;33m=\u001b[0m \u001b[0mt1\u001b[0m\u001b[1;33m.\u001b[0m\u001b[0mcount\u001b[0m\u001b[1;33m(\u001b[0m\u001b[1;36m3\u001b[0m\u001b[1;33m)\u001b[0m\u001b[1;33m\u001b[0m\u001b[1;33m\u001b[0m\u001b[0m\n\u001b[1;32m----> 5\u001b[1;33m \u001b[0mt\u001b[0m \u001b[1;33m=\u001b[0m \u001b[0mtuple\u001b[0m\u001b[1;33m(\u001b[0m\u001b[0mt2\u001b[0m\u001b[1;33m)\u001b[0m\u001b[1;33m\u001b[0m\u001b[1;33m\u001b[0m\u001b[0m\n\u001b[0m\u001b[0;32m      6\u001b[0m \u001b[0mprint\u001b[0m\u001b[1;33m(\u001b[0m\u001b[0mt\u001b[0m\u001b[1;33m)\u001b[0m\u001b[1;33m\u001b[0m\u001b[1;33m\u001b[0m\u001b[0m\n",
      "\u001b[1;31mTypeError\u001b[0m: 'int' object is not iterable"
     ]
    }
   ],
   "source": [
    "# count\n",
    "t = (1,2,3,4,5,3,5,3,2)\n",
    "t1 = list(t)\n",
    "t2 = t1.count(3)\n",
    "t = tuple(t2)\n",
    "print(t)"
   ]
  },
  {
   "cell_type": "code",
   "execution_count": null,
   "id": "004b03a0",
   "metadata": {},
   "outputs": [],
   "source": []
  }
 ],
 "metadata": {
  "kernelspec": {
   "display_name": "Python 3 (ipykernel)",
   "language": "python",
   "name": "python3"
  },
  "language_info": {
   "codemirror_mode": {
    "name": "ipython",
    "version": 3
   },
   "file_extension": ".py",
   "mimetype": "text/x-python",
   "name": "python",
   "nbconvert_exporter": "python",
   "pygments_lexer": "ipython3",
   "version": "3.9.7"
  }
 },
 "nbformat": 4,
 "nbformat_minor": 5
}
