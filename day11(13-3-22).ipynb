{
 "cells": [
  {
   "cell_type": "code",
   "execution_count": 1,
   "id": "520a7b30",
   "metadata": {},
   "outputs": [
    {
     "name": "stdout",
     "output_type": "stream",
     "text": [
      "Hello world \n",
      "Hello world \n",
      "Hello world \n",
      "Hello world \n",
      "Hello world \n",
      "Hello world \n",
      "Hello world \n",
      "Hello world \n",
      "Hello world \n",
      "Hello world \n",
      "Hello world \n",
      "Hello world \n",
      "Hello world \n",
      "Hello world \n",
      "Hello world \n",
      "Hello world \n",
      "Hello world \n",
      "Hello world \n",
      "Hello world \n",
      "Hello world \n",
      "good morning \n",
      "good morning \n",
      "good morning \n",
      "good morning \n",
      "good morning \n",
      "good morning \n",
      "good morning \n",
      "good morning \n",
      "good morning \n",
      "good morning \n",
      "good morning \n",
      "\n",
      "\n",
      "\n",
      "good morning \n",
      "good morning \n",
      "good morning \n",
      "good morning \n",
      "good morning \n",
      "\n"
     ]
    }
   ],
   "source": [
    "# Read a file\n",
    "def readfile(filename):\n",
    "    with open(filename,\"r\")as f:\n",
    "        if f.mode == \"r\":\n",
    "            x = f.read()\n",
    "            print(x)\n",
    "readfile(\"text.txt\")"
   ]
  },
  {
   "cell_type": "code",
   "execution_count": 2,
   "id": "7079be31",
   "metadata": {},
   "outputs": [
    {
     "data": {
      "text/plain": [
       "25"
      ]
     },
     "execution_count": 2,
     "metadata": {},
     "output_type": "execute_result"
    }
   ],
   "source": [
    "# word count\n",
    "def wordcount(filename):\n",
    "    with open(filename,\"r\")as f:\n",
    "        if f.mode == \"r\":\n",
    "            x = f.read()\n",
    "            l = x.split()\n",
    "        return len(l)\n",
    "wordcount(\"file.txt\")"
   ]
  },
  {
   "cell_type": "code",
   "execution_count": 8,
   "id": "0fbca610",
   "metadata": {},
   "outputs": [
    {
     "data": {
      "text/plain": [
       "0"
      ]
     },
     "execution_count": 8,
     "metadata": {},
     "output_type": "execute_result"
    }
   ],
   "source": [
    "# specific word count\n",
    "def specific(filename,word):\n",
    "    with open(filename,\"r\")as f:\n",
    "        if f.mode ==\"r\":\n",
    "            x = f.read()\n",
    "            l = x.split()\n",
    "        return l.count(word)\n",
    "specific(\"file.txt\",\"Hello\")"
   ]
  },
  {
   "cell_type": "code",
   "execution_count": 9,
   "id": "1845e750",
   "metadata": {},
   "outputs": [
    {
     "data": {
      "text/plain": [
       "20"
      ]
     },
     "execution_count": 9,
     "metadata": {},
     "output_type": "execute_result"
    }
   ],
   "source": [
    "specific(\"text.txt\",\"Hello\")"
   ]
  },
  {
   "cell_type": "code",
   "execution_count": 10,
   "id": "a19f01c3",
   "metadata": {},
   "outputs": [
    {
     "data": {
      "text/plain": [
       "123"
      ]
     },
     "execution_count": 10,
     "metadata": {},
     "output_type": "execute_result"
    }
   ],
   "source": [
    "# count characters\n",
    "def char(filename):\n",
    "    with open(filename,\"r\")as f:\n",
    "        if f.mode == \"r\":\n",
    "            x = f.read()\n",
    "            l = list(x)\n",
    "        return len(l)\n",
    "char(\"file.txt\")"
   ]
  },
  {
   "cell_type": "code",
   "execution_count": 11,
   "id": "3deb39cf",
   "metadata": {},
   "outputs": [
    {
     "data": {
      "text/plain": [
       "487"
      ]
     },
     "execution_count": 11,
     "metadata": {},
     "output_type": "execute_result"
    }
   ],
   "source": [
    "char(\"text.txt\")"
   ]
  },
  {
   "cell_type": "code",
   "execution_count": 14,
   "id": "3f996991",
   "metadata": {},
   "outputs": [
    {
     "data": {
      "text/plain": [
       "9"
      ]
     },
     "execution_count": 14,
     "metadata": {},
     "output_type": "execute_result"
    }
   ],
   "source": [
    "# count lines\n",
    "def countlines(filename):\n",
    "    with open(filename,\"r\") as f:\n",
    "        if f.mode ==\"r\":\n",
    "            x = f.read()\n",
    "            l = x.split(\"\\n\")\n",
    "        return len(l)\n",
    "countlines(\"file.txt\")\n",
    "    "
   ]
  },
  {
   "cell_type": "code",
   "execution_count": 15,
   "id": "bf4b44b5",
   "metadata": {},
   "outputs": [
    {
     "data": {
      "text/plain": [
       "40"
      ]
     },
     "execution_count": 15,
     "metadata": {},
     "output_type": "execute_result"
    }
   ],
   "source": [
    "countlines(\"text.txt\")"
   ]
  },
  {
   "cell_type": "markdown",
   "id": "a47ad16e",
   "metadata": {},
   "source": [
    "# String slicing:"
   ]
  },
  {
   "cell_type": "code",
   "execution_count": 19,
   "id": "d97a0c77",
   "metadata": {},
   "outputs": [
    {
     "name": "stdout",
     "output_type": "stream",
     "text": [
      "python programming <class 'str'>\n"
     ]
    }
   ],
   "source": [
    "s = \"python programming\"\n",
    "print(s,type(s))"
   ]
  },
  {
   "cell_type": "code",
   "execution_count": 20,
   "id": "1c2a3cc6",
   "metadata": {},
   "outputs": [
    {
     "name": "stdout",
     "output_type": "stream",
     "text": [
      "p\n",
      "g\n",
      "python \n",
      "ython pr\n"
     ]
    }
   ],
   "source": [
    "# acess\n",
    "print(s[0])\n",
    "print(s[-1])\n",
    "print(s[0:7])\n",
    "print(s[1:9])"
   ]
  },
  {
   "cell_type": "code",
   "execution_count": 21,
   "id": "0e6f3578",
   "metadata": {},
   "outputs": [
    {
     "name": "stdout",
     "output_type": "stream",
     "text": [
      "ython programmin\n",
      "thon programmi\n"
     ]
    }
   ],
   "source": [
    "# want to print string\n",
    "print(s[1:-1])\n",
    "print(s[2:-2])"
   ]
  },
  {
   "cell_type": "code",
   "execution_count": 23,
   "id": "6ee0e6b5",
   "metadata": {},
   "outputs": [
    {
     "name": "stdout",
     "output_type": "stream",
     "text": [
      "gnimmargorp nohtyp\n",
      "gnimmargorp nohtyp\n"
     ]
    }
   ],
   "source": [
    "# reverse\n",
    "s = \"python programming\"\n",
    "print(s[::-1])\n",
    "print(s[-1::-1])"
   ]
  },
  {
   "cell_type": "code",
   "execution_count": 24,
   "id": "ba4bc70e",
   "metadata": {},
   "outputs": [
    {
     "data": {
      "text/plain": [
       "'gnimmargorp nohtyp'"
      ]
     },
     "execution_count": 24,
     "metadata": {},
     "output_type": "execute_result"
    }
   ],
   "source": [
    "def reverse(n):\n",
    "    return n[::-1]\n",
    "reverse(\"python programming\")"
   ]
  },
  {
   "cell_type": "markdown",
   "id": "a3901c38",
   "metadata": {},
   "source": [
    "# Ascii sysytems\n",
    "- A-Z-->65- 90\n",
    "- a-z-->97- 122\n",
    "- 0-9-48-57\n",
    "- space-32"
   ]
  },
  {
   "cell_type": "code",
   "execution_count": 26,
   "id": "bb3937b8",
   "metadata": {},
   "outputs": [
    {
     "name": "stdout",
     "output_type": "stream",
     "text": [
      "y 121 R 82\n"
     ]
    }
   ],
   "source": [
    "s = \"y\"\n",
    "s1 = \"R\"\n",
    "print(s,ord(s),s1,ord(s1))\n"
   ]
  },
  {
   "cell_type": "code",
   "execution_count": 28,
   "id": "cfa6f9c1",
   "metadata": {},
   "outputs": [
    {
     "name": "stdout",
     "output_type": "stream",
     "text": [
      "A B C D E F G H I J K L M N O P Q R S T U V W X Y Z "
     ]
    }
   ],
   "source": [
    "# A-Z\n",
    "for i in range(65,91):\n",
    "    print(chr(i),end = \" \")"
   ]
  },
  {
   "cell_type": "code",
   "execution_count": 29,
   "id": "0d006648",
   "metadata": {},
   "outputs": [
    {
     "name": "stdout",
     "output_type": "stream",
     "text": [
      "a b c d e f g h i j k l m n o p q r s t u v w x y z "
     ]
    }
   ],
   "source": [
    "# a-z\n",
    "for i in range(97,123):\n",
    "    print(chr(i),end = \" \")"
   ]
  },
  {
   "cell_type": "code",
   "execution_count": 30,
   "id": "822d4da9",
   "metadata": {},
   "outputs": [
    {
     "name": "stdout",
     "output_type": "stream",
     "text": [
      "0 1 2 3 4 5 6 7 8 9 "
     ]
    }
   ],
   "source": [
    "# 0-9\n",
    "for i in range(48,58):\n",
    "    print(chr(i),end = \" \")"
   ]
  },
  {
   "cell_type": "code",
   "execution_count": 31,
   "id": "2162797e",
   "metadata": {},
   "outputs": [
    {
     "data": {
      "text/plain": [
       "False"
      ]
     },
     "execution_count": 31,
     "metadata": {},
     "output_type": "execute_result"
    }
   ],
   "source": [
    "# check given string is palendrome or not\n",
    "def palendrome(s):\n",
    "    if s ==s[::-1]:\n",
    "        return True\n",
    "    return False\n",
    "palendrome(\"poornima\")"
   ]
  },
  {
   "cell_type": "code",
   "execution_count": 32,
   "id": "ea511855",
   "metadata": {},
   "outputs": [
    {
     "data": {
      "text/plain": [
       "True"
      ]
     },
     "execution_count": 32,
     "metadata": {},
     "output_type": "execute_result"
    }
   ],
   "source": [
    "palendrome(\"dad\")"
   ]
  },
  {
   "cell_type": "code",
   "execution_count": 35,
   "id": "0c971282",
   "metadata": {},
   "outputs": [
    {
     "name": "stdout",
     "output_type": "stream",
     "text": [
      "P Y T O N "
     ]
    }
   ],
   "source": [
    "# print upper case charaters from given string\n",
    "def upper(x):\n",
    "    for i in range(len(x)):\n",
    "        if ord(x[i])>65 and ord(x[i])<91:\n",
    "            print(x[i],end = \" \")\n",
    "upper(\"PYTON programming\")"
   ]
  },
  {
   "cell_type": "code",
   "execution_count": 40,
   "id": "5bd82f0d",
   "metadata": {},
   "outputs": [
    {
     "name": "stdout",
     "output_type": "stream",
     "text": [
      "p r o g r m m i n g "
     ]
    }
   ],
   "source": [
    "# print lower case characters from given string\n",
    "def lower(x):\n",
    "    for i in range(len(x)):\n",
    "        if ord(x[i])>97 and ord(x[i])<123:\n",
    "               print(x[i],end = \" \")\n",
    "lower(\"PYTHON programming\")"
   ]
  },
  {
   "cell_type": "code",
   "execution_count": 42,
   "id": "59d49b39",
   "metadata": {},
   "outputs": [
    {
     "name": "stdout",
     "output_type": "stream",
     "text": [
      "2 4 4 "
     ]
    }
   ],
   "source": [
    "# print digits from given string\n",
    "def digits(x):\n",
    "    for i in range(len(x)):\n",
    "        if ord(x[i])>48 and ord(x[i])<58:\n",
    "            print(x[i],end = \" \")\n",
    "digits(\"poornima 244\")"
   ]
  },
  {
   "cell_type": "code",
   "execution_count": 47,
   "id": "c4c8fc8d",
   "metadata": {},
   "outputs": [
    {
     "data": {
      "text/plain": [
       "' pYtHoN'"
      ]
     },
     "execution_count": 47,
     "metadata": {},
     "output_type": "execute_result"
    }
   ],
   "source": [
    "# input:PyThOn\n",
    "# output:pytHON\n",
    "def case(x):\n",
    "    s1 = \" \"\n",
    "    for i in range(len(x)):\n",
    "        if ord(x[i])>65 and ord(x[i])<91:\n",
    "            s1 += chr(ord(x[i])+32)\n",
    "        elif ord(x[i])>97 and ord(x[i])<123:\n",
    "            s1 += chr(ord(x[i])-32)\n",
    "    return s1\n",
    "case(\"PyThOn\")"
   ]
  },
  {
   "cell_type": "code",
   "execution_count": 48,
   "id": "9d2eb905",
   "metadata": {},
   "outputs": [
    {
     "data": {
      "text/plain": [
       "10"
      ]
     },
     "execution_count": 48,
     "metadata": {},
     "output_type": "execute_result"
    }
   ],
   "source": [
    "# input :\"P1y2y3o4\"\n",
    "# otput :10(1+2+3+4)\n",
    "def sum(s):\n",
    "    sum = 0\n",
    "    for i in range(len(s)):\n",
    "        if ord(s[i])>48 and ord(s[i])<58:\n",
    "            sum += ord(s[i])-48\n",
    "    return sum\n",
    "sum(\"P1y2y3o4\")"
   ]
  },
  {
   "cell_type": "code",
   "execution_count": null,
   "id": "e41797fb",
   "metadata": {},
   "outputs": [],
   "source": []
  }
 ],
 "metadata": {
  "kernelspec": {
   "display_name": "Python 3 (ipykernel)",
   "language": "python",
   "name": "python3"
  },
  "language_info": {
   "codemirror_mode": {
    "name": "ipython",
    "version": 3
   },
   "file_extension": ".py",
   "mimetype": "text/x-python",
   "name": "python",
   "nbconvert_exporter": "python",
   "pygments_lexer": "ipython3",
   "version": "3.9.7"
  }
 },
 "nbformat": 4,
 "nbformat_minor": 5
}
