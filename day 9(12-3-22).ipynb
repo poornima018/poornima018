{
 "cells": [
  {
   "cell_type": "markdown",
   "id": "04e89e0e",
   "metadata": {},
   "source": [
    "# contact applications\n",
    " - add contacts\n",
    " - search contact\n",
    " - update\n",
    " - merge\n",
    " - delete contact"
   ]
  },
  {
   "cell_type": "code",
   "execution_count": 6,
   "id": "27a9c787",
   "metadata": {},
   "outputs": [
    {
     "name": "stdout",
     "output_type": "stream",
     "text": [
      "contact is added\n"
     ]
    }
   ],
   "source": [
    "# add contacts\n",
    "contacts = { }\n",
    "def addcontacts(name,number):\n",
    "    if name not in contacts:\n",
    "        contacts[name] = number\n",
    "        print(\"contact is added\")\n",
    "    else:\n",
    "        print(\"contact already exist\")\n",
    "addcontacts(\"poornima\",\"9256314580\")\n",
    "    \n",
    "        "
   ]
  },
  {
   "cell_type": "code",
   "execution_count": 7,
   "id": "a716ed12",
   "metadata": {},
   "outputs": [
    {
     "name": "stdout",
     "output_type": "stream",
     "text": [
      "contact is added\n"
     ]
    }
   ],
   "source": [
    "addcontacts(\"sandya\",\"9876543210\")"
   ]
  },
  {
   "cell_type": "code",
   "execution_count": 8,
   "id": "33972c14",
   "metadata": {},
   "outputs": [
    {
     "data": {
      "text/plain": [
       "{'poornima': '9256314580', 'sandya': '9876543210'}"
      ]
     },
     "execution_count": 8,
     "metadata": {},
     "output_type": "execute_result"
    }
   ],
   "source": [
    "contacts"
   ]
  },
  {
   "cell_type": "code",
   "execution_count": 10,
   "id": "d60aed2c",
   "metadata": {},
   "outputs": [
    {
     "name": "stdout",
     "output_type": "stream",
     "text": [
      "poornima : 9256314580\n"
     ]
    }
   ],
   "source": [
    "# search contacts\n",
    "def searchcontact(name):\n",
    "    if name in contacts:\n",
    "        print(name,\":\",contacts[name])\n",
    "    else:\n",
    "        print(\"contact not exist\")\n",
    "searchcontact(\"poornima\")"
   ]
  },
  {
   "cell_type": "code",
   "execution_count": 13,
   "id": "dc1c0d8d",
   "metadata": {},
   "outputs": [
    {
     "name": "stdout",
     "output_type": "stream",
     "text": [
      "contact not exist\n"
     ]
    }
   ],
   "source": [
    "# delete contacts\n",
    "def deletecontact(name):\n",
    "    if name in contacts:\n",
    "        del contacts[name]\n",
    "    else:\n",
    "        print(\"contact not exist\")\n",
    "deletecontact(\"sandya\")"
   ]
  },
  {
   "cell_type": "code",
   "execution_count": 14,
   "id": "b8fb3a7e",
   "metadata": {},
   "outputs": [
    {
     "data": {
      "text/plain": [
       "{'poornima': '9256314580'}"
      ]
     },
     "execution_count": 14,
     "metadata": {},
     "output_type": "execute_result"
    }
   ],
   "source": [
    "contacts"
   ]
  },
  {
   "cell_type": "code",
   "execution_count": 16,
   "id": "854abb24",
   "metadata": {},
   "outputs": [
    {
     "name": "stdout",
     "output_type": "stream",
     "text": [
      "contact not exist\n"
     ]
    }
   ],
   "source": [
    "deletecontact(\"sandya\")"
   ]
  },
  {
   "cell_type": "code",
   "execution_count": 29,
   "id": "7d354233",
   "metadata": {},
   "outputs": [
    {
     "name": "stdout",
     "output_type": "stream",
     "text": [
      "3 contacts are added\n"
     ]
    }
   ],
   "source": [
    "# merge contacts:\n",
    "def mergecontact(newcontacts):\n",
    "    contacts.update(newcontacts)\n",
    "    print(len(newcontacts.keys()),\"contacts are added\")\n",
    "newcontacts = {\"swetha\":\"23456718990\",\"swathi\":\"7890456321\",\"latha\":\"9824531670\"}\n",
    "mergecontact(newcontacts)"
   ]
  },
  {
   "cell_type": "code",
   "execution_count": 30,
   "id": "ed8b9ebb",
   "metadata": {},
   "outputs": [
    {
     "data": {
      "text/plain": [
       "{'poornima': '9256314580',\n",
       " 'swetha': '23456718990',\n",
       " 'swathi': '7890456321',\n",
       " 'latha': '9824531670'}"
      ]
     },
     "execution_count": 30,
     "metadata": {},
     "output_type": "execute_result"
    }
   ],
   "source": [
    "contacts"
   ]
  },
  {
   "cell_type": "markdown",
   "id": "2b168118",
   "metadata": {},
   "source": [
    "# string methods\n",
    " - upper\n",
    " - lower\n",
    " - join\n",
    " - split\n",
    " - replace"
   ]
  },
  {
   "cell_type": "code",
   "execution_count": 24,
   "id": "554549f9",
   "metadata": {},
   "outputs": [
    {
     "name": "stdout",
     "output_type": "stream",
     "text": [
      "python\n",
      "PYTHON\n",
      "p y t h o n\n",
      "p,y,t,h,o,n\n",
      "p@y@t@h@o@n\n"
     ]
    }
   ],
   "source": [
    "s = \"python\"\n",
    "print(s.lower())\n",
    "print(s.upper())\n",
    "print(\" \".join(s))\n",
    "print(\",\".join(s))\n",
    "print(\"@\".join(s))"
   ]
  },
  {
   "cell_type": "code",
   "execution_count": 26,
   "id": "d90bf5d7",
   "metadata": {},
   "outputs": [
    {
     "name": "stdout",
     "output_type": "stream",
     "text": [
      "['python', 'is', 'simple', 'programming', 'language']\n",
      "['python i', ' ', 'imple programming language']\n",
      "['python is simple progr', 'mming l', 'ngu', 'ge']\n"
     ]
    }
   ],
   "source": [
    "# split method\n",
    "s = \"python is simple programming language\"\n",
    "print(s.split())\n",
    "print(s.split(\"s\"))\n",
    "print(s.split(\"a\"))"
   ]
  },
  {
   "cell_type": "code",
   "execution_count": 27,
   "id": "1adc20dd",
   "metadata": {},
   "outputs": [
    {
     "name": "stdout",
     "output_type": "stream",
     "text": [
      "python is a easy programming language\n"
     ]
    }
   ],
   "source": [
    "s = \"python is a simple programming language\"\n",
    "print(s.replace(\"simple\",\"easy\"))"
   ]
  },
  {
   "cell_type": "markdown",
   "id": "79c3a0a0",
   "metadata": {},
   "source": [
    "# boolean functions:\n",
    " - islower()\n",
    " - isupper()\n",
    " - istitle()\n",
    " - isalpha()\n",
    " - isnumeric()\n",
    " - isspace()"
   ]
  },
  {
   "cell_type": "code",
   "execution_count": 31,
   "id": "326bb3eb",
   "metadata": {},
   "outputs": [
    {
     "name": "stdout",
     "output_type": "stream",
     "text": [
      "True\n"
     ]
    }
   ],
   "source": [
    "s = \"python\"\n",
    "print(s.islower())"
   ]
  },
  {
   "cell_type": "code",
   "execution_count": 32,
   "id": "1139cd8f",
   "metadata": {},
   "outputs": [
    {
     "name": "stdout",
     "output_type": "stream",
     "text": [
      "True\n"
     ]
    }
   ],
   "source": [
    "s = \"PYTHON\"\n",
    "print(s.isupper())"
   ]
  },
  {
   "cell_type": "code",
   "execution_count": 34,
   "id": "a0077482",
   "metadata": {},
   "outputs": [
    {
     "name": "stdout",
     "output_type": "stream",
     "text": [
      "True\n"
     ]
    }
   ],
   "source": [
    "s = \"Python\"\n",
    "print(s.istitle())"
   ]
  },
  {
   "cell_type": "code",
   "execution_count": 35,
   "id": "a391504d",
   "metadata": {},
   "outputs": [
    {
     "name": "stdout",
     "output_type": "stream",
     "text": [
      "True\n"
     ]
    }
   ],
   "source": [
    "s = \"Python\"\n",
    "print(s.isalpha())"
   ]
  },
  {
   "cell_type": "code",
   "execution_count": 36,
   "id": "60cb7c02",
   "metadata": {},
   "outputs": [
    {
     "name": "stdout",
     "output_type": "stream",
     "text": [
      "True\n"
     ]
    }
   ],
   "source": [
    "s = \"123\"\n",
    "print(s.isnumeric())"
   ]
  },
  {
   "cell_type": "code",
   "execution_count": 37,
   "id": "caa2df1e",
   "metadata": {},
   "outputs": [
    {
     "name": "stdout",
     "output_type": "stream",
     "text": [
      "True\n",
      "False\n"
     ]
    }
   ],
   "source": [
    "s1 = \" \"\n",
    "s2 = \"p\"\n",
    "print(s1.isspace())\n",
    "print(s2.isspace())"
   ]
  },
  {
   "cell_type": "markdown",
   "id": "19359613",
   "metadata": {},
   "source": [
    "# file handling\n",
    " - file handling play important role in web application \n",
    " - in file handling to deal with any file will use **open** function\n",
    " - in this **open** function will 2 parameters filenmae,mode\n",
    " - **mode**\n",
    " - **w** -- write the file\n",
    " - **a** -- append to file \n",
    " - **r** -- read a file"
   ]
  },
  {
   "cell_type": "code",
   "execution_count": 39,
   "id": "8ff44708",
   "metadata": {},
   "outputs": [
    {
     "ename": "FileNotFoundError",
     "evalue": "[Errno 2] No such file or directory: 'file.txt'",
     "output_type": "error",
     "traceback": [
      "\u001b[1;31m---------------------------------------------------------------------------\u001b[0m",
      "\u001b[1;31mFileNotFoundError\u001b[0m                         Traceback (most recent call last)",
      "\u001b[1;32m~\\AppData\\Local\\Temp/ipykernel_8168/480046124.py\u001b[0m in \u001b[0;36m<module>\u001b[1;34m\u001b[0m\n\u001b[1;32m----> 1\u001b[1;33m \u001b[0mf\u001b[0m \u001b[1;33m=\u001b[0m \u001b[0mopen\u001b[0m\u001b[1;33m(\u001b[0m\u001b[1;34m\"file.txt\"\u001b[0m\u001b[1;33m,\u001b[0m\u001b[1;34m\"r\"\u001b[0m\u001b[1;33m)\u001b[0m\u001b[1;33m\u001b[0m\u001b[1;33m\u001b[0m\u001b[0m\n\u001b[0m\u001b[0;32m      2\u001b[0m \u001b[0mprint\u001b[0m\u001b[1;33m(\u001b[0m\u001b[0mf\u001b[0m\u001b[1;33m.\u001b[0m\u001b[0mread\u001b[0m\u001b[1;33m(\u001b[0m\u001b[1;33m)\u001b[0m\u001b[1;33m)\u001b[0m\u001b[1;33m\u001b[0m\u001b[1;33m\u001b[0m\u001b[0m\n",
      "\u001b[1;31mFileNotFoundError\u001b[0m: [Errno 2] No such file or directory: 'file.txt'"
     ]
    }
   ],
   "source": [
    "f = open(\"file.txt\",\"r\")\n",
    "print(f.read())"
   ]
  },
  {
   "cell_type": "code",
   "execution_count": null,
   "id": "4cf1e14a",
   "metadata": {},
   "outputs": [],
   "source": []
  }
 ],
 "metadata": {
  "kernelspec": {
   "display_name": "Python 3 (ipykernel)",
   "language": "python",
   "name": "python3"
  },
  "language_info": {
   "codemirror_mode": {
    "name": "ipython",
    "version": 3
   },
   "file_extension": ".py",
   "mimetype": "text/x-python",
   "name": "python",
   "nbconvert_exporter": "python",
   "pygments_lexer": "ipython3",
   "version": "3.9.7"
  }
 },
 "nbformat": 4,
 "nbformat_minor": 5
}
