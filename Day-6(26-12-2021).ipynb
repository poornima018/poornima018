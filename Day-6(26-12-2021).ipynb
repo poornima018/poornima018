{
 "cells": [
  {
   "cell_type": "markdown",
   "id": "80ddc7f6",
   "metadata": {},
   "source": [
    "# python operators\n",
    "  - To perform operations on variables and values\n",
    "  "
   ]
  },
  {
   "cell_type": "markdown",
   "id": "b281206d",
   "metadata": {},
   "source": [
    "# Arthmetic operations\n",
    "   - uesd to perform mathematical operations\n",
    "       - Operators:\n",
    "       - '+'--Addition\n",
    "       - '-'--Subtraction\n",
    "       - '*'--Multipliction\n",
    "       - '/'--Divison\n",
    "       -'%'--Modulus\n",
    "       - '**'--Exponential\n",
    "       - '//'--Floor division\n",
    "       "
   ]
  },
  {
   "cell_type": "code",
   "execution_count": 1,
   "id": "dbf65afd",
   "metadata": {},
   "outputs": [
    {
     "name": "stdout",
     "output_type": "stream",
     "text": [
      "15\n",
      "5\n",
      "50\n",
      "2.0\n",
      "0\n",
      "100000\n",
      "2\n"
     ]
    }
   ],
   "source": [
    "X = 10\n",
    "Y = 5\n",
    "print (X+Y)\n",
    "print (X-Y)\n",
    "print (X*Y)\n",
    "print (X/Y)\n",
    "print (X%Y)\n",
    "print (X**Y)\n",
    "print (X//Y)\n"
   ]
  },
  {
   "cell_type": "markdown",
   "id": "bac657de",
   "metadata": {},
   "source": [
    "# Assignment operators:\n",
    "  - used to assign values to variables\n",
    "  - operators\n",
    "      - '='\n",
    "      - '+='\n",
    "      - '-='\n",
    "      - '*='\n",
    "      - '/='\n",
    "      - '%='\n",
    "      - '**='\n",
    "      - '//='"
   ]
  },
  {
   "cell_type": "code",
   "execution_count": 4,
   "id": "3916474a",
   "metadata": {},
   "outputs": [
    {
     "name": "stdout",
     "output_type": "stream",
     "text": [
      "7\n",
      "5\n",
      "20\n",
      "10.0\n",
      "0.0\n",
      "625\n",
      "25\n"
     ]
    }
   ],
   "source": [
    "X = 3\n",
    "X += 4 # X = X+4\n",
    "print(X)\n",
    "X -= 2\n",
    "print(X)\n",
    "X *= 4\n",
    "print(X)\n",
    "X /= 2\n",
    "print(X)\n",
    "X %= 5\n",
    "print(X)\n",
    "X = 5\n",
    "X **= 4\n",
    "print(X)\n",
    "X //= 25\n",
    "print(X)"
   ]
  },
  {
   "cell_type": "markdown",
   "id": "ed9c26c1",
   "metadata": {},
   "source": [
    "# comparision operator:\n",
    "   - used to compare values\n",
    "   - operators:\n",
    "       - **'=='**\n",
    "       - **'!='**\n",
    "       - **'<'**\n",
    "       - **'>'**\n",
    "       - **'<='**\n",
    "       - **'>='**\n",
    "       "
   ]
  },
  {
   "cell_type": "code",
   "execution_count": 6,
   "id": "f49eea01",
   "metadata": {},
   "outputs": [
    {
     "name": "stdout",
     "output_type": "stream",
     "text": [
      "False\n",
      "True\n",
      "True\n",
      "False\n",
      "True\n",
      "False\n"
     ]
    }
   ],
   "source": [
    "X = 4\n",
    "Y = 17\n",
    "print(X==Y)\n",
    "print(X!=Y)\n",
    "print(X<Y)\n",
    "print(X>Y)\n",
    "print(X<=Y)\n",
    "print(X>=Y)"
   ]
  },
  {
   "cell_type": "markdown",
   "id": "507bac1b",
   "metadata": {},
   "source": [
    "# Logical operators:\n",
    "   - used to compare conditional statement\n",
    "   - operators\n",
    "       - **'and'**\n",
    "       - **'or'**\n",
    "       - **'not'**"
   ]
  },
  {
   "cell_type": "code",
   "execution_count": 7,
   "id": "2b457736",
   "metadata": {},
   "outputs": [
    {
     "name": "stdout",
     "output_type": "stream",
     "text": [
      "False\n",
      "True\n",
      "False\n"
     ]
    }
   ],
   "source": [
    "X = 4\n",
    "print(X > 3 and X > 7)\n",
    "print(X > 3 or X > 7)\n",
    "print(not(X > 3 or X > 7))\n"
   ]
  },
  {
   "cell_type": "markdown",
   "id": "aef948e2",
   "metadata": {},
   "source": [
    "# Identity operator:\n",
    "   - used to compare objects \n",
    "   - operators:\n",
    "       - **'is'**\n",
    "       - **'is not'**"
   ]
  },
  {
   "cell_type": "code",
   "execution_count": 8,
   "id": "0a037ee5",
   "metadata": {},
   "outputs": [
    {
     "name": "stdout",
     "output_type": "stream",
     "text": [
      "True\n",
      "False\n",
      "True\n",
      "True\n"
     ]
    }
   ],
   "source": [
    "a = 2\n",
    "b = 2\n",
    "c = 6\n",
    "print(a is b)\n",
    "print(a is c)\n",
    "print(a is not c)\n",
    "print(a is b is not c)"
   ]
  },
  {
   "cell_type": "markdown",
   "id": "41bf9d1d",
   "metadata": {},
   "source": [
    "# membership operator:\n",
    "  - used to text given sequence is presented in object:\n",
    "  - operators:\n",
    "      - **'in'**\n",
    "      - **'not in'**"
   ]
  },
  {
   "cell_type": "code",
   "execution_count": 9,
   "id": "a21a3fa2",
   "metadata": {},
   "outputs": [
    {
     "name": "stdout",
     "output_type": "stream",
     "text": [
      "True\n",
      "False\n",
      "True\n",
      "True\n"
     ]
    }
   ],
   "source": [
    "a = \"python\"\n",
    "print(\"y\" in a)\n",
    "print(\"s\" in a)\n",
    "print(\"th\" in a)\n",
    "print(\"ahj\" not in a)"
   ]
  },
  {
   "cell_type": "markdown",
   "id": "0204fc8e",
   "metadata": {},
   "source": [
    "# control flow statements:\n",
    " - conditional statements\n",
    "   - if-else statement\n",
    " - looping statements\n",
    "   - while loop statement\n",
    "   - for loop statement"
   ]
  },
  {
   "cell_type": "markdown",
   "id": "7df0ab47",
   "metadata": {},
   "source": [
    "# - else statements:\n"
   ]
  },
  {
   "cell_type": "code",
   "execution_count": 10,
   "id": "b2c7d7b2",
   "metadata": {},
   "outputs": [],
   "source": [
    "# syntax:\n",
    "if boolean_condition:\n",
    "    statement\n",
    "elif:\n",
    "    statement\n",
    "else:\n",
    "    statment"
   ]
  },
  {
   "cell_type": "code",
   "execution_count": 14,
   "id": "5d2e06d6",
   "metadata": {},
   "outputs": [
    {
     "name": "stdout",
     "output_type": "stream",
     "text": [
      "enter a number:5\n",
      "odd number\n"
     ]
    }
   ],
   "source": [
    "# check given is even or odd\n",
    "n = int(input(\"enter a number:\"))\n",
    "if n %2 ==0:\n",
    "    print(\"even number\")\n",
    "else:\n",
    "    print(\"odd number\")"
   ]
  },
  {
   "cell_type": "code",
   "execution_count": 1,
   "id": "b81ed54d",
   "metadata": {},
   "outputs": [
    {
     "name": "stdout",
     "output_type": "stream",
     "text": [
      "eneter a number:15\n",
      "yes\n"
     ]
    }
   ],
   "source": [
    "# check given number is multiples of both 3 and 5\n",
    "n = int(input(\"eneter a number:\"))\n",
    "if n %3==0 and n %5==0:\n",
    "    print(\"yes\")\n",
    "else:\n",
    "    print(\"no\")\n",
    "    "
   ]
  },
  {
   "cell_type": "code",
   "execution_count": 11,
   "id": "827ada51",
   "metadata": {},
   "outputs": [
    {
     "name": "stdout",
     "output_type": "stream",
     "text": [
      "enter a number4\n",
      "positive\n"
     ]
    }
   ],
   "source": [
    "# check given is positive , negative or zero\n",
    "n = int (input(\"enter a number\"))\n",
    "if n >0:\n",
    "    print(\"positive\")\n",
    "elif n <0:\n",
    "     print(\"negative\")\n",
    "else:\n",
    "     print(\"zero\")\n"
   ]
  },
  {
   "cell_type": "code",
   "execution_count": 12,
   "id": "93cc6232",
   "metadata": {},
   "outputs": [
    {
     "name": "stdout",
     "output_type": "stream",
     "text": [
      "enter a number5\n",
      "enter a number10\n",
      "enter a number12\n",
      "y is larger\n"
     ]
    }
   ],
   "source": [
    "# find large number by given 3 inputs\n",
    "n = int (input(\"enter a number\"))\n",
    "x = int (input(\"enter a number\"))\n",
    "y = int (input(\"enter a number\"))\n",
    "if n>x and n>y:\n",
    "    print(\"n is larger\")\n",
    "elif x>y and x>n:\n",
    "    print(\"x is larger\")\n",
    "elif y>x and y>n:\n",
    "    print(\"y is larger\")"
   ]
  },
  {
   "cell_type": "code",
   "execution_count": 22,
   "id": "550eedd7",
   "metadata": {},
   "outputs": [
    {
     "name": "stdout",
     "output_type": "stream",
     "text": [
      "enter a number75\n",
      "grade is B\n"
     ]
    }
   ],
   "source": [
    "# find grading\n",
    "# below 25 -- F\n",
    "# 25 to 45 -- E\n",
    "# 45 to 50 -- D\n",
    "# 50 to 60 -- C\n",
    "# 60 to 80 -- B\n",
    "# above 80 -- A\n",
    "n = int (input(\"enter a number\"))\n",
    "if n <25:\n",
    "    print(\"grade is F\")\n",
    "elif n  >=25 and n <=45:\n",
    "    print(\"grade is E\")\n",
    "elif n >=45 and n <=50:\n",
    "    print(\"grade is D\")\n",
    "elif n >=50 and n <=60:\n",
    "    print(\"grade is c\")\n",
    "elif n >=60 and n <=80:\n",
    "    print(\"grade is B\")\n",
    "elif n >80:\n",
    "    print(\"grade is A\")\n"
   ]
  },
  {
   "cell_type": "markdown",
   "id": "6d3028cb",
   "metadata": {},
   "source": [
    "# While loop conditions:"
   ]
  },
  {
   "cell_type": "code",
   "execution_count": 23,
   "id": "cbe36beb",
   "metadata": {},
   "outputs": [
    {
     "name": "stdout",
     "output_type": "stream",
     "text": [
      "python\n",
      "python\n",
      "python\n",
      "python\n",
      "python\n"
     ]
    }
   ],
   "source": [
    "i = 0\n",
    "while i <5:\n",
    "    print(\"python\")\n",
    "    i = i+1"
   ]
  },
  {
   "cell_type": "code",
   "execution_count": 26,
   "id": "4520da17",
   "metadata": {},
   "outputs": [
    {
     "name": "stdout",
     "output_type": "stream",
     "text": [
      "1\n",
      "2\n",
      "3\n",
      "4\n",
      "5\n",
      "6\n",
      "7\n",
      "8\n",
      "9\n",
      "10\n"
     ]
    }
   ],
   "source": [
    "# print 1 to 10 numbers\n",
    "i = 1\n",
    "while i <=10:\n",
    "    print(i)\n",
    "    i = i+1"
   ]
  },
  {
   "cell_type": "code",
   "execution_count": 27,
   "id": "b97c6c95",
   "metadata": {},
   "outputs": [
    {
     "name": "stdout",
     "output_type": "stream",
     "text": [
      "2 4 6 8 10 "
     ]
    }
   ],
   "source": [
    "# print even numbers from 1 to 10\n",
    "i = 1\n",
    "while i <=10:\n",
    "    if i %2==0:\n",
    "        print(i,end=\" \")\n",
    "    i = i+1\n"
   ]
  },
  {
   "cell_type": "code",
   "execution_count": 28,
   "id": "e2951d06",
   "metadata": {},
   "outputs": [
    {
     "name": "stdout",
     "output_type": "stream",
     "text": [
      "6\n",
      "1 2 3 6 "
     ]
    }
   ],
   "source": [
    "# input : 6  o/p: 1 2 3 6\n",
    "i=1\n",
    "n = int(input())\n",
    "while i <=n:\n",
    "    if n %i==0:\n",
    "        print(i,end=' ')\n",
    "    i = i+1"
   ]
  },
  {
   "cell_type": "code",
   "execution_count": 30,
   "id": "133f9a9b",
   "metadata": {},
   "outputs": [
    {
     "name": "stdout",
     "output_type": "stream",
     "text": [
      "12\n",
      "1 2 3 4 6 12 "
     ]
    }
   ],
   "source": [
    "# input : 12 o/p: 1 2 3 4 6 12\n",
    "i = 1\n",
    "n = int(input())\n",
    "while i <=n:\n",
    "    if n %i==0:\n",
    "        print(i,end=' ')\n",
    "    i = i+1"
   ]
  },
  {
   "cell_type": "code",
   "execution_count": null,
   "id": "a16f5152",
   "metadata": {},
   "outputs": [],
   "source": []
  }
 ],
 "metadata": {
  "kernelspec": {
   "display_name": "Python 3 (ipykernel)",
   "language": "python",
   "name": "python3"
  },
  "language_info": {
   "codemirror_mode": {
    "name": "ipython",
    "version": 3
   },
   "file_extension": ".py",
   "mimetype": "text/x-python",
   "name": "python",
   "nbconvert_exporter": "python",
   "pygments_lexer": "ipython3",
   "version": "3.9.7"
  }
 },
 "nbformat": 4,
 "nbformat_minor": 5
}
