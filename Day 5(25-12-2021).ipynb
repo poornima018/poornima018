{
 "cells": [
  {
   "cell_type": "markdown",
   "id": "4e467afc",
   "metadata": {},
   "source": [
    "# Markdown\n",
    "## Markkdown\n",
    "### Markdown\n",
    "\n",
    "# python\n",
    "    -python\n",
    "       -python 1\n",
    "       -python 2\n",
    "# font style\n",
    "    - **python\n",
    "  \n",
    "    \n",
    "\n",
    "     \n",
    "    \n",
    "   \n",
    "   \n",
    "   "
   ]
  },
  {
   "cell_type": "markdown",
   "id": "dc88c577",
   "metadata": {},
   "source": [
    "- **python**\n",
    "- *python*\n",
    "- ***python***"
   ]
  },
  {
   "cell_type": "markdown",
   "id": "462580dd",
   "metadata": {},
   "source": [
    "# print function():\n",
    "  -In python print function used to print specific text or message\n",
    " "
   ]
  },
  {
   "cell_type": "code",
   "execution_count": 2,
   "id": "4ee49494",
   "metadata": {},
   "outputs": [
    {
     "name": "stdout",
     "output_type": "stream",
     "text": [
      "Hello world\n"
     ]
    }
   ],
   "source": [
    " print(\"hello world\")"
   ]
  },
  {
   "cell_type": "code",
   "execution_count": 3,
   "id": "8b9fc055",
   "metadata": {},
   "outputs": [
    {
     "name": "stdout",
     "output_type": "stream",
     "text": [
      "hello,world\n"
     ]
    }
   ],
   "source": [
    "print(\"hello,world\")"
   ]
  },
  {
   "cell_type": "code",
   "execution_count": 4,
   "id": "4e774419",
   "metadata": {},
   "outputs": [
    {
     "name": "stdout",
     "output_type": "stream",
     "text": [
      "one two three\n"
     ]
    }
   ],
   "source": [
    "print(\"one\",\"two\",\"three\")"
   ]
  },
  {
   "cell_type": "markdown",
   "id": "bd9ce493",
   "metadata": {},
   "source": [
    "# variables:\n",
    "  _ To store some data values"
   ]
  },
  {
   "cell_type": "code",
   "execution_count": 12,
   "id": "7ae8b0c2",
   "metadata": {
    "scrolled": true
   },
   "outputs": [
    {
     "ename": "SyntaxError",
     "evalue": "invalid syntax (Temp/ipykernel_4668/1817609346.py, line 1)",
     "output_type": "error",
     "traceback": [
      "\u001b[1;36m  File \u001b[1;32m\"C:\\Users\\USER23~1\\AppData\\Local\\Temp/ipykernel_4668/1817609346.py\"\u001b[1;36m, line \u001b[1;32m1\u001b[0m\n\u001b[1;33m    - **To store data value**\u001b[0m\n\u001b[1;37m      ^\u001b[0m\n\u001b[1;31mSyntaxError\u001b[0m\u001b[1;31m:\u001b[0m invalid syntax\n"
     ]
    }
   ],
   "source": []
  },
  {
   "cell_type": "markdown",
   "id": "a9c037aa",
   "metadata": {},
   "source": [
    "a=10 # single value assigned to single  variable\n",
    "print(a)"
   ]
  },
  {
   "cell_type": "code",
   "execution_count": 11,
   "id": "e4ee978f",
   "metadata": {},
   "outputs": [
    {
     "name": "stdout",
     "output_type": "stream",
     "text": [
      "10 10 10\n"
     ]
    }
   ],
   "source": [
    "a=b=c=10 # single value assigned to multiple variables\n",
    "print(a,b,c)"
   ]
  },
  {
   "cell_type": "code",
   "execution_count": 8,
   "id": "dc625301",
   "metadata": {},
   "outputs": [
    {
     "name": "stdout",
     "output_type": "stream",
     "text": [
      "10 20 30\n"
     ]
    }
   ],
   "source": [
    "a,b,c=10,20,30 # multiple values assigned to multiple variable\n",
    "print(a,b,c)"
   ]
  },
  {
   "cell_type": "markdown",
   "id": "b2393cd1",
   "metadata": {},
   "source": [
    "# input function"
   ]
  },
  {
   "cell_type": "code",
   "execution_count": 17,
   "id": "b681a001",
   "metadata": {},
   "outputs": [
    {
     "name": "stdout",
     "output_type": "stream",
     "text": [
      "Enter your name:poornima\n",
      "your name is: poornima\n",
      "<class 'str'>\n"
     ]
    }
   ],
   "source": [
    "# input as a text\n",
    "X = input(\"Enter your name:\")\n",
    "print(\"your name is:\",X)\n",
    "print(type(X))\n",
    "\n"
   ]
  },
  {
   "cell_type": "code",
   "execution_count": 18,
   "id": "63785367",
   "metadata": {},
   "outputs": [
    {
     "name": "stdout",
     "output_type": "stream",
     "text": [
      "Enter a number1\n",
      "1\n",
      "<class 'str'>\n"
     ]
    }
   ],
   "source": [
    "# input as a number\n",
    "X = input(\"Enter a number\")\n",
    "print(X)\n",
    "print(type(X))"
   ]
  },
  {
   "cell_type": "markdown",
   "id": "e51b14fd",
   "metadata": {},
   "source": [
    "# Datatypes"
   ]
  },
  {
   "cell_type": "code",
   "execution_count": 19,
   "id": "3fd9d3d2",
   "metadata": {},
   "outputs": [
    {
     "name": "stdout",
     "output_type": "stream",
     "text": [
      "10\n",
      "<class 'int'>\n"
     ]
    }
   ],
   "source": [
    "# integer\n",
    "X = 10\n",
    "print(X)\n",
    "print(type(X))"
   ]
  },
  {
   "cell_type": "code",
   "execution_count": 20,
   "id": "adacdb3a",
   "metadata": {},
   "outputs": [
    {
     "name": "stdout",
     "output_type": "stream",
     "text": [
      "10.2\n",
      "<class 'float'>\n"
     ]
    }
   ],
   "source": [
    "# Float\n",
    "a = 10.2\n",
    "print(a)\n",
    "print(type(a))"
   ]
  },
  {
   "cell_type": "code",
   "execution_count": 21,
   "id": "aff5556b",
   "metadata": {},
   "outputs": [
    {
     "name": "stdout",
     "output_type": "stream",
     "text": [
      "Python\n",
      "<class 'str'>\n"
     ]
    }
   ],
   "source": [
    "# string\n",
    "a = \"Python\"\n",
    "print(a)\n",
    "print(type(a))"
   ]
  },
  {
   "cell_type": "markdown",
   "id": "9dfe09c5",
   "metadata": {},
   "source": [
    "# Data conversions\n"
   ]
  },
  {
   "cell_type": "code",
   "execution_count": 22,
   "id": "4551548d",
   "metadata": {},
   "outputs": [
    {
     "name": "stdout",
     "output_type": "stream",
     "text": [
      "5 <class 'type'> 5\n",
      "5.0 <class 'type'> 5.0\n",
      "5 <class 'type'> 5\n"
     ]
    }
   ],
   "source": [
    "# integer\n",
    "n = 5\n",
    "print(n,type,(n))\n",
    "f = float(n)\n",
    "print(f,type,(f))\n",
    "s = str(n)\n",
    "print(s,type,(s))"
   ]
  },
  {
   "cell_type": "code",
   "execution_count": 23,
   "id": "705ae904",
   "metadata": {},
   "outputs": [
    {
     "name": "stdout",
     "output_type": "stream",
     "text": [
      "12345 <class 'str'>\n",
      "12345 <class 'int'>\n",
      "12345.0 <class 'float'>\n"
     ]
    }
   ],
   "source": [
    "# string\n",
    "s = \"12345\"\n",
    "print(s,type(s))\n",
    "n = int(s)\n",
    "print(n,type(n))\n",
    "f = float(s)\n",
    "print(f,type(f))"
   ]
  },
  {
   "cell_type": "code",
   "execution_count": 24,
   "id": "d815a99c",
   "metadata": {},
   "outputs": [
    {
     "name": "stdout",
     "output_type": "stream",
     "text": [
      "12 <class 'str'>\n",
      "12 <class 'int'>\n",
      "12 <class 'str'>\n"
     ]
    }
   ],
   "source": [
    "# float\n",
    "f = \"12\"\n",
    "print(f,type(f))\n",
    "n = int(f)\n",
    "print(n,type(n))\n",
    "s = str(f)\n",
    "print(s,type(s))"
   ]
  },
  {
   "cell_type": "markdown",
   "id": "bd927eb2",
   "metadata": {},
   "source": [
    "# Exercise\n"
   ]
  },
  {
   "cell_type": "code",
   "execution_count": 1,
   "id": "f5343c71",
   "metadata": {},
   "outputs": [
    {
     "name": "stdout",
     "output_type": "stream",
     "text": [
      "Enter your name:James\n",
      "name is James\n"
     ]
    }
   ],
   "source": [
    "n = input(\"Enter your name:\")\n",
    "print(\"name is\",n)\n"
   ]
  },
  {
   "cell_type": "code",
   "execution_count": 3,
   "id": "e12a6b71",
   "metadata": {},
   "outputs": [
    {
     "name": "stdout",
     "output_type": "stream",
     "text": [
      "Enter radius:5\n",
      "78.5\n"
     ]
    }
   ],
   "source": [
    "Pi = 3.14\n",
    "r = int(input(\"Enter radius:\"))\n",
    "print(Pi*r*r)\n"
   ]
  },
  {
   "cell_type": "code",
   "execution_count": 7,
   "id": "2cbe0255",
   "metadata": {},
   "outputs": [
    {
     "name": "stdout",
     "output_type": "stream",
     "text": [
      "50\n",
      "30\n",
      "80 20 1500 1.6666666666666667\n"
     ]
    }
   ],
   "source": [
    "a = int(input())\n",
    "b = int(input())\n",
    "c = a+b\n",
    "d = a-b\n",
    "e = a*b\n",
    "f = a/b\n",
    "print(c,d,e,f)"
   ]
  },
  {
   "cell_type": "code",
   "execution_count": 8,
   "id": "e8a71526",
   "metadata": {},
   "outputs": [
    {
     "name": "stdout",
     "output_type": "stream",
     "text": [
      "Enter a year2021\n",
      "2071\n"
     ]
    }
   ],
   "source": [
    "X =int(input(\"Enter a year\"))\n",
    "X = X+50\n",
    "print(X)"
   ]
  },
  {
   "cell_type": "code",
   "execution_count": null,
   "id": "ea72f271",
   "metadata": {},
   "outputs": [],
   "source": []
  }
 ],
 "metadata": {
  "kernelspec": {
   "display_name": "Python 3 (ipykernel)",
   "language": "python",
   "name": "python3"
  },
  "language_info": {
   "codemirror_mode": {
    "name": "ipython",
    "version": 3
   },
   "file_extension": ".py",
   "mimetype": "text/x-python",
   "name": "python",
   "nbconvert_exporter": "python",
   "pygments_lexer": "ipython3",
   "version": "3.9.7"
  }
 },
 "nbformat": 4,
 "nbformat_minor": 5
}
